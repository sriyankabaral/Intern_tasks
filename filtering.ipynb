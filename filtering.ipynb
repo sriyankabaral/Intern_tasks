{
 "cells": [
  {
   "cell_type": "markdown",
   "id": "46fbc69e",
   "metadata": {},
   "source": [
    "# Mean Filter\n"
   ]
  },
  {
   "cell_type": "code",
   "execution_count": 11,
   "id": "9277592d",
   "metadata": {},
   "outputs": [
    {
     "name": "stdout",
     "output_type": "stream",
     "text": [
      "SimpleITK version → 2.4.1\n"
     ]
    }
   ],
   "source": [
    "import SimpleITK as sitk, importlib.metadata, sys, subprocess\n",
    "\n",
    "try:\n",
    "    print(\"SimpleITK version →\", importlib.metadata.version(\"SimpleITK\"))\n",
    "except importlib.metadata.PackageNotFoundError:\n",
    "    print(\"SimpleITK not in this env\")\n",
    "\n",
    "# If version < 2.3, upgrade; it takes ~30 s and avoids AttributeErrors\n",
    "# (Skip this line if you already see 2.3.x or newer)\n",
    "# subprocess.check_call([sys.executable, \"-m\", \"pip\", \"install\", \"--upgrade\", \"SimpleITK\", \"--no-cache-dir\"])\n"
   ]
  },
  {
   "cell_type": "markdown",
   "id": "ad2a5fe2",
   "metadata": {},
   "source": [
    "# Checkerboard_Implementation(1_a_1,1_a_2,1_a_3,1_a_4)"
   ]
  },
  {
   "cell_type": "code",
   "execution_count": null,
   "id": "ef944302",
   "metadata": {},
   "outputs": [
    {
     "name": "stdout",
     "output_type": "stream",
     "text": [
      "✓ saved → C:\\Users\\shahi\\OneDrive\\Documents\\NAAMI\\Padding and Filtering implementation\\test_dataset\\test_dataset\\checkerboard\\image\\checkerboard.nii\\ibsi_single_outputs\\1_a_4_mean15.nii.gz\n"
     ]
    }
   ],
   "source": [
    "# # =====================================================\n",
    "#  IBSI 1.a.2  –  3-D mean filter (M=15) with NEAREST\n",
    "# =====================================================\n",
    "IMG_PATH = r\"C:\\Users\\shahi\\OneDrive\\Documents\\NAAMI\\Padding and Filtering implementation\\test_dataset\\test_dataset\\checkerboard\\image\\checkerboard.nii\\checkerboard.nii\"\n",
    "\n",
    "RULE    = \"mirror\"      # padding\n",
    "OUT_TAG = \"1_a_4\"        # output ID tag\n",
    "\n",
    "from pathlib import Path\n",
    "import SimpleITK as sitk\n",
    "\n",
    "KERNEL_M = 15\n",
    "RADIUS   = (KERNEL_M - 1) // 2          # 7 voxels\n",
    "\n",
    "img      = sitk.ReadImage(IMG_PATH)\n",
    "pad_vec  = [RADIUS] * img.GetDimension()\n",
    "\n",
    "# ---------- PAD step (nearest = ZeroFluxNeumannPad) -----\n",
    "padded   = sitk.ZeroFluxNeumannPad(img, pad_vec, pad_vec)\n",
    "\n",
    "# ---------- MEAN filter ---------------------------------\n",
    "flt      = sitk.BoxMeanImageFilter()\n",
    "flt.SetRadius(RADIUS)                   # SimpleITK 2.x\n",
    "filtered = flt.Execute(padded)\n",
    "\n",
    "# ---------- SAVE ----------------------------------------\n",
    "out_dir  = Path(IMG_PATH).parent / \"ibsi_single_outputs\"\n",
    "out_dir.mkdir(exist_ok=True)\n",
    "out_path = out_dir / f\"{OUT_TAG}_mean15.nii.gz\"\n",
    "sitk.WriteImage(filtered, str(out_path))\n",
    "\n",
    "print(\"✓ saved →\", out_path)\n",
    "\n"
   ]
  },
  {
   "cell_type": "markdown",
   "id": "b2a58b99",
   "metadata": {},
   "source": [
    "# Impulse_Implementtation(1_b_1)"
   ]
  },
  {
   "cell_type": "code",
   "execution_count": 20,
   "id": "eaa82709",
   "metadata": {},
   "outputs": [
    {
     "name": "stdout",
     "output_type": "stream",
     "text": [
      "✓ saved → C:\\Users\\shahi\\OneDrive\\Documents\\NAAMI\\Padding and Filtering implementation\\test_dataset\\test_dataset\\impulse\\image\\impulse.nii\\ibsi_single_outputs\\1.b.1_mean15.nii.gz\n"
     ]
    }
   ],
   "source": [
    "# # =====================================================\n",
    "#  IBSI 1.a.2  –  3-D mean filter (M=15) with NEAREST\n",
    "# =====================================================\n",
    "IMG_PATH = r\"C:\\Users\\shahi\\OneDrive\\Documents\\NAAMI\\Padding and Filtering implementation\\test_dataset\\test_dataset\\impulse\\image\\impulse.nii\\impulse.nii\"\n",
    "\n",
    "RULE    = \"zero\"      # padding\n",
    "OUT_TAG = \"1.b.1\"        # output ID tag\n",
    "\n",
    "from pathlib import Path\n",
    "import SimpleITK as sitk\n",
    "\n",
    "KERNEL_M = 15\n",
    "RADIUS   = (KERNEL_M - 1) // 2          # 7 voxels\n",
    "\n",
    "img      = sitk.ReadImage(IMG_PATH)\n",
    "pad_vec  = [RADIUS] * img.GetDimension()\n",
    "\n",
    "# ---------- PAD step (nearest = ZeroFluxNeumannPad) -----\n",
    "padded   = sitk.ZeroFluxNeumannPad(img, pad_vec, pad_vec)\n",
    "\n",
    "# ---------- MEAN filter ---------------------------------\n",
    "flt      = sitk.BoxMeanImageFilter()\n",
    "flt.SetRadius(RADIUS)                   # SimpleITK 2.x\n",
    "filtered = flt.Execute(padded)\n",
    "\n",
    "# ---------- SAVE ----------------------------------------\n",
    "out_dir  = Path(IMG_PATH).parent / \"ibsi_single_outputs\"\n",
    "out_dir.mkdir(exist_ok=True)\n",
    "out_path = out_dir / f\"{OUT_TAG}_mean15.nii.gz\"\n",
    "sitk.WriteImage(filtered, str(out_path))\n",
    "\n",
    "print(\"✓ saved →\", out_path)"
   ]
  },
  {
   "cell_type": "markdown",
   "id": "18b383eb",
   "metadata": {},
   "source": [
    "# LoG Filter"
   ]
  },
  {
   "cell_type": "markdown",
   "id": "09498251",
   "metadata": {},
   "source": [
    "# Impulse Implementation(2.a)"
   ]
  },
  {
   "cell_type": "code",
   "execution_count": 22,
   "id": "b6145e56",
   "metadata": {},
   "outputs": [
    {
     "name": "stdout",
     "output_type": "stream",
     "text": [
      "✓ 2.a saved → C:\\Users\\shahi\\OneDrive\\Documents\\NAAMI\\Padding and Filtering implementation\\test_dataset\\test_dataset\\impulse\\image\\impulse.nii\\2_a_log.nii.gz\n"
     ]
    }
   ],
   "source": [
    "# --- 2.a LoG, impulse phantom, zero padding -------------------------\n",
    "IMG_PATH = r\"C:\\Users\\shahi\\OneDrive\\Documents\\NAAMI\\Padding and Filtering implementation\\test_dataset\\test_dataset\\impulse\\image\\impulse.nii\\impulse.nii\"   \n",
    "SIGMA_MM = 3.0\n",
    "OUT_TAG  = \"2_a_log\"                        # output file name root\n",
    "\n",
    "from pathlib import Path\n",
    "import SimpleITK as sitk\n",
    "import numpy as np\n",
    "\n",
    "\n",
    "img      = sitk.ReadImage(IMG_PATH)\n",
    "spacing  = np.array(img.GetSpacing())       # mm\n",
    "sigma_vox= SIGMA_MM / spacing               # one per axis\n",
    "radius   = np.ceil(4 * sigma_vox).astype(int).tolist()\n",
    "\n",
    "# zero padding (constant 0)\n",
    "padded   = sitk.ConstantPad(img, radius, radius, 0)\n",
    "\n",
    "# Laplacian-of-Gaussian\n",
    "log_filt = sitk.LaplacianRecursiveGaussianImageFilter()\n",
    "log_filt.SetSigma(SIGMA_MM)\n",
    "filtered = log_filt.Execute(padded)\n",
    "\n",
    "out_path = Path(IMG_PATH).with_name(f\"{OUT_TAG}.nii.gz\")\n",
    "sitk.WriteImage(filtered, str(out_path))\n",
    "print(\"✓ 2.a saved →\", out_path)\n"
   ]
  },
  {
   "cell_type": "markdown",
   "id": "c8cac1c6",
   "metadata": {},
   "source": [
    "# Checkerboard Implementation (2.b,2.c)"
   ]
  },
  {
   "cell_type": "code",
   "execution_count": null,
   "id": "eef5cd7e",
   "metadata": {},
   "outputs": [
    {
     "name": "stdout",
     "output_type": "stream",
     "text": [
      "✓ 2.a saved → C:\\Users\\shahi\\OneDrive\\Documents\\NAAMI\\Padding and Filtering implementation\\test_dataset\\test_dataset\\checkerboard\\image\\checkerboard.nii\\2_b_log.nii.gz\n"
     ]
    }
   ],
   "source": [
    "#3d Implementation\n",
    "# --- 2.a LoG, impulse phantom, zero padding -------------------------\n",
    "IMG_PATH = r\"C:\\Users\\shahi\\OneDrive\\Documents\\NAAMI\\Padding and Filtering implementation\\test_dataset\\test_dataset\\checkerboard\\image\\checkerboard.nii\\checkerboard.nii\"   # <- change to your impulse file\n",
    "SIGMA_MM = 3.0\n",
    "OUT_TAG  = \"2_b_log\"                        # output file name root\n",
    "\n",
    "from pathlib import Path\n",
    "import SimpleITK as sitk\n",
    "import numpy as np\n",
    "\n",
    "img      = sitk.ReadImage(IMG_PATH)\n",
    "spacing  = np.array(img.GetSpacing())       # mm\n",
    "sigma_vox= SIGMA_MM / spacing               # one per axis\n",
    "radius   = np.ceil(4 * sigma_vox).astype(int).tolist()\n",
    "\n",
    "# zero padding (constant 0)\n",
    "padded   = sitk.ConstantPad(img, radius, radius, 0)\n",
    "\n",
    "# Laplacian-of-Gaussian\n",
    "log_filt = sitk.LaplacianRecursiveGaussianImageFilter()\n",
    "log_filt.SetSigma(SIGMA_MM)\n",
    "filtered = log_filt.Execute(padded)\n",
    "\n",
    "out_path = Path(IMG_PATH).with_name(f\"{OUT_TAG}.nii.gz\")\n",
    "sitk.WriteImage(filtered, str(out_path))\n",
    "print(\"✓ 2.a saved →\", out_path)\n"
   ]
  },
  {
   "cell_type": "code",
   "execution_count": 31,
   "id": "5a503114",
   "metadata": {},
   "outputs": [
    {
     "name": "stdout",
     "output_type": "stream",
     "text": [
      "✓ saved → C:\\Users\\shahi\\OneDrive\\Documents\\NAAMI\\Padding and Filtering implementation\\test_dataset\\test_dataset\\checkerboard\\image\\checkerboard.nii\\2_c_log.nii.gz\n"
     ]
    }
   ],
   "source": [
    "# ===============================================================\n",
    "#  IBSI 2.c  –  2-D LoG (σ′ = 5 mm)   mirror padding, slice loop\n",
    "# ===============================================================\n",
    "\n",
    "IMG_PATH = r\"C:\\Users\\shahi\\OneDrive\\Documents\\NAAMI\\Padding and Filtering implementation\\test_dataset\\test_dataset\\checkerboard\\image\\checkerboard.nii\\checkerboard.nii\"\n",
    "SIGMA_MM = 5.0\n",
    "OUT_TAG  = \"2_c_log\"\n",
    "\n",
    "from pathlib import Path\n",
    "import SimpleITK as sitk\n",
    "import numpy as np\n",
    "\n",
    "# --- load & compute in-plane radius ---------------------------------\n",
    "img       = sitk.ReadImage(IMG_PATH)\n",
    "spacing   = np.array(img.GetSpacing())          # [sx, sy, sz]  mm\n",
    "radius_xy = int(np.ceil(4 * SIGMA_MM / spacing[0]))  # assume isotropic x–y\n",
    "pad_vec   = [radius_xy, radius_xy, 0]           # mirror pad only in x,y\n",
    "\n",
    "# --- mirror padding --------------------------------------------------\n",
    "padded    = sitk.MirrorPad(img, pad_vec, pad_vec)\n",
    "\n",
    "# --- set up 2-D Laplacian-of-Gaussian -------------------------------\n",
    "log2d = sitk.LaplacianRecursiveGaussianImageFilter()\n",
    "log2d.SetSigma(SIGMA_MM)        # scalar = 2-D kernel on each slice\n",
    "\n",
    "# --- process each axial slice ---------------------------------------\n",
    "slices = []\n",
    "for z in range(padded.GetSize()[2]):\n",
    "    slice_2d = padded[:, :, z]          # extract 2-D slice\n",
    "    slices.append(log2d.Execute(slice_2d))\n",
    "\n",
    "filtered = sitk.JoinSeries(slices)      # stack back to 3-D\n",
    "filtered.CopyInformation(padded)        # keep origin / spacing\n",
    "\n",
    "# --- save ------------------------------------------------------------\n",
    "out_path = Path(IMG_PATH).with_name(f\"{OUT_TAG}.nii.gz\")\n",
    "sitk.WriteImage(filtered, str(out_path))\n",
    "print(\"✓ saved →\", out_path)\n",
    "\n",
    "\n",
    "\n"
   ]
  },
  {
   "cell_type": "markdown",
   "id": "f0f00157",
   "metadata": {},
   "source": [
    "# Laws Filter"
   ]
  },
  {
   "cell_type": "code",
   "execution_count": null,
   "id": "4d76af4b",
   "metadata": {},
   "outputs": [
    {
     "name": "stdout",
     "output_type": "stream",
     "text": [
      "✓ 3_c_3 saved → C:\\Users\\shahi\\OneDrive\\Documents\\NAAMI\\Padding and Filtering implementation\\test_dataset\\test_dataset\\checkerboard\\image\\checkerboard.nii\\laws_single_outputs\\3_c_3_l5s5_energy.nii.gz\n"
     ]
    }
   ],
   "source": [
    "import SimpleITK as sitk\n",
    "import numpy as np\n",
    "import itertools\n",
    "from pathlib import Path\n",
    "\n",
    "# ─── 0. CONFIGURE FOR ONE IBSI LAWS CASE ────────────────────────\n",
    "ID_TAG     = \"3_c_3\"    # e.g. \"3_c_1\", \"3_c_2\", or \"3_c_3\"\n",
    "IMG_PATH   = r\"C:\\Users\\shahi\\OneDrive\\Documents\\NAAMI\\Padding and Filtering implementation\\test_dataset\\test_dataset\\checkerboard\\image\\checkerboard.nii\\checkerboard.nii\"   # <- change to your impulse file\n",
    "TRIPLET    = \"E3W5R5\"     # 2-D Laws kernel for 3.c.x\n",
    "PADDING    = \"mirror\"   # mirror padding\n",
    "DO_MAXPOOL = True      # True for 3_c_2 and 3_c_3\n",
    "ENERGY_R   = 7          # 0 for resp, 7 for energy (3_c_3)\n",
    "# ────────────────────────────────────────────────────────────────\n",
    "\n",
    "# 1-D Laws vectors (include E3 if you ever use it)\n",
    "base = {\n",
    "    \"L5\": np.array([ 1,  4,  6,  4, 1], np.float32),\n",
    "    \"E5\": np.array([-1, -2,  0,  2, 1], np.float32),\n",
    "    \"S5\": np.array([-1,  0,  2,  0, -1], np.float32),\n",
    "    \"W5\": np.array([-1,  2,  0, -2,  1], np.float32),\n",
    "    \"R5\": np.array([ 1, -4,  6, -4,  1], np.float32),\n",
    "    \"E3\": np.array([-1,  0,  1],       np.float32),\n",
    "}\n",
    "\n",
    "def outer3(a, b, c):\n",
    "    return np.outer(np.outer(a, b).reshape(a.size, b.size), c).reshape(a.size, b.size, c.size)\n",
    "\n",
    "# Build 2- or 3-D kernels\n",
    "tokens = [TRIPLET[i:i+2] for i in range(0, len(TRIPLET), 2)]\n",
    "perms  = list(itertools.permutations(tokens)) if DO_MAXPOOL else [tuple(tokens)]\n",
    "\n",
    "kernels = []\n",
    "for p in perms:\n",
    "    if len(p) == 3:\n",
    "        k_np = outer3(base[p[0]], base[p[1]], base[p[2]])      # shape 5×5×5\n",
    "    else:\n",
    "        # 2-D case: outer2, then add singleton z-axis\n",
    "        k2   = np.outer(base[p[0]], base[p[1]])              # shape 5×5\n",
    "        k_np = k2[:, :, None]                                 # shape 5×5×1\n",
    "    kernels.append(k_np)\n",
    "\n",
    "# Load and pad image\n",
    "img   = sitk.Cast(sitk.ReadImage(IMG_PATH), sitk.sitkFloat32)\n",
    "pad_r = [2, 2, 2]  # half-kernel of max dimension\n",
    "padded = (sitk.ConstantPad(img, pad_r, pad_r, 0)\n",
    "          if PADDING == \"zero\"\n",
    "          else sitk.MirrorPad(img, pad_r, pad_r))\n",
    "\n",
    "# Convolve & combine\n",
    "def make_kernel(k_np):\n",
    "    k = sitk.GetImageFromArray(k_np[::-1, ::-1, ::-1])\n",
    "    k = sitk.Cast(k, sitk.sitkFloat32)\n",
    "    k.SetSpacing(padded.GetSpacing())\n",
    "    return k\n",
    "\n",
    "resp = None\n",
    "for k_np in kernels:\n",
    "    out = sitk.Abs(sitk.Convolution(padded, make_kernel(k_np)))\n",
    "    resp = out if resp is None else sitk.Maximum(resp, out)\n",
    "\n",
    "# Optional energy map\n",
    "if ENERGY_R > 0:\n",
    "    resp = sitk.Sqrt(sitk.BoxMean(resp * resp, [ENERGY_R]*3))\n",
    "\n",
    "# Save single output\n",
    "out_dir = Path(IMG_PATH).parent / \"laws_single_outputs\"\n",
    "out_dir.mkdir(exist_ok=True)\n",
    "suffix  = \"energy\" if ENERGY_R > 0 else \"resp\"\n",
    "out_fn  = f\"{ID_TAG}_{TRIPLET.lower()}_{suffix}.nii.gz\"\n",
    "sitk.WriteImage(resp, str(out_dir / out_fn))\n",
    "\n",
    "print(f\"✓ {ID_TAG} saved → {out_dir / out_fn}\")\n"
   ]
  },
  {
   "cell_type": "markdown",
   "id": "c0a0274c",
   "metadata": {},
   "source": [
    "# Gabor"
   ]
  },
  {
   "cell_type": "code",
   "execution_count": 60,
   "id": "ccbac74b",
   "metadata": {},
   "outputs": [
    {
     "name": "stdout",
     "output_type": "stream",
     "text": [
      "✓ 4_b_1 → C:\\Users\\shahi\\OneDrive\\Documents\\NAAMI\\Padding and Filtering implementation\\test_dataset\\test_dataset\\sphere\\image\\sphere.nii\\gabor_single_outputs\\4_b_1_gabor.nii.gz\n"
     ]
    },
    {
     "data": {
      "image/png": "[encoded data removed]",
      "text/plain": [
       "<Figure size 640x480 with 1 Axes>"
      ]
     },
     "metadata": {},
     "output_type": "display_data"
    }
   ],
   "source": [
    "import nibabel as nib\n",
    "import numpy as np\n",
    "import torch\n",
    "import torch.nn.functional as F\n",
    "from pathlib import Path\n",
    "import matplotlib.pyplot as plt\n",
    "\n",
    "# ─── 0. CONFIGURE FOR ONE IBSI GABOR CASE ───────────────────────\n",
    "ID_TAG   = \"4_b_1\"   # \"4_a_1\", \"4_a_2\", \"4_b_1\" or \"4_b_2\"\n",
    "IMG_PATH = r\"C:\\Users\\shahi\\OneDrive\\Documents\\NAAMI\\Padding and Filtering implementation\\test_dataset\\test_dataset\\sphere\\image\\sphere.nii\\sphere.nii\"  # path to your .nii\n",
    "SIGMA    = 20.0    # σ* in mm\n",
    "LAMBDA   =  8.0    # λ* in mm\n",
    "GAMMA    =  2.5    # spatial aspect ratio\n",
    "THETA0  = 5 * np.pi/4  # start\n",
    "ΔTHETA  = np.pi/8\n",
    "PADDING  = \"mirror\"  # \"zero\" for 4.a.*, \"mirror\" for 4.b.*\n",
    "# ────────────────────────────────────────────────────────────────\n",
    "\n",
    "# 1. LOAD VOLUME\n",
    "nii      = nib.load(IMG_PATH)\n",
    "vol      = nii.get_fdata().astype(np.float32)  # shape = (Z, Y, X)\n",
    "affine   = nii.affine\n",
    "zoom     = np.array(nii.header.get_zooms()[:2])  # assume 2D isotropic in‐plane\n",
    "\n",
    "# 2. BUILD 2D GABOR KERNEL\n",
    "sigma_px  = SIGMA / zoom[0]                # pixels\n",
    "lambda_px = LAMBDA / zoom[0]\n",
    "# kernel half‐size = 3σ (you can adjust to 4σ for larger support)\n",
    "radius    = int(np.ceil(3 * sigma_px))\n",
    "size      = 2 * radius + 1\n",
    "\n",
    "# meshgrid in pixel units\n",
    "x = np.arange(-radius, radius+1)\n",
    "y = x.copy()\n",
    "X, Y = np.meshgrid(x, y)\n",
    "\n",
    "# rotate coords\n",
    "Xr =  X * np.cos(THETA) + Y * np.sin(THETA)\n",
    "Yr = -X * np.sin(THETA) + Y * np.cos(THETA)\n",
    "\n",
    "# real & imag parts\n",
    "gauss = np.exp(-(Xr**2 + (GAMMA**2)*(Yr**2)) / (2*sigma_px**2))\n",
    "real  = gauss * np.cos(2*np.pi * Xr / lambda_px)\n",
    "imag  = gauss * np.sin(2*np.pi * Xr / lambda_px)\n",
    "\n",
    "# to torch kernels\n",
    "kern_r = torch.from_numpy(real[np.newaxis, np.newaxis, ...]).float()\n",
    "kern_i = torch.from_numpy(imag[np.newaxis, np.newaxis, ...]).float()\n",
    "\n",
    "# 3. PREPARE TENSOR & PADDING\n",
    "pad = radius\n",
    "vol_t = torch.from_numpy(vol).unsqueeze(0).unsqueeze(0)  # (1,1,Z,Y,X)\n",
    "\n",
    "# define pad mode for F.pad\n",
    "pad_mode = {\"zero\":\"constant\",\"mirror\":\"reflect\"}[PADDING]\n",
    "\n",
    "# we'll apply per‐slice 2D conv → loop over Z\n",
    "out = torch.zeros_like(vol_t)\n",
    "\n",
    "for z in range(vol_t.shape[2]):\n",
    "    sl = vol_t[0,0,z,:,:].unsqueeze(0).unsqueeze(0)\n",
    "    sl = F.pad(sl, (pad,pad,pad,pad), mode=pad_mode, value=0)\n",
    "    r = F.conv2d(sl, kern_r)\n",
    "    i = F.conv2d(sl, kern_i)\n",
    "    mag = torch.sqrt(r**2 + i**2)\n",
    "    out[0,0,z] = mag.squeeze()\n",
    "\n",
    "# 4. SAVE & OPTIONAL DISPLAY\n",
    "out_np = out.squeeze().cpu().numpy()\n",
    "out_nii = nib.Nifti1Image(out_np, affine)\n",
    "out_dir = Path(IMG_PATH).parent / \"gabor_single_outputs\"\n",
    "out_dir.mkdir(exist_ok=True)\n",
    "out_fn  = f\"{ID_TAG}_gabor.nii.gz\"\n",
    "nib.save(out_nii, out_dir / out_fn)\n",
    "print(f\"✓ {ID_TAG} → {out_dir/out_fn}\")\n",
    "\n",
    "# bonus: show middle slice\n",
    "mid = vol.shape[0]//2\n",
    "plt.imshow(out_np[mid], cmap=\"hot\"); plt.title(ID_TAG); plt.axis(\"off\")\n",
    "plt.show()\n"
   ]
  },
  {
   "cell_type": "markdown",
   "id": "ba724f39",
   "metadata": {},
   "source": [
    "# Daubechies 2"
   ]
  },
  {
   "cell_type": "code",
   "execution_count": 66,
   "id": "041c75e3",
   "metadata": {},
   "outputs": [
    {
     "name": "stdout",
     "output_type": "stream",
     "text": [
      "✓ 5_a_1 saved → C:\\Users\\shahi\\OneDrive\\Documents\\NAAMI\\Padding and Filtering implementation\\test_dataset\\test_dataset\\impulse\\image\\impulse.nii\\udwt_single_outputs\\5_a_1_db2_ada_resp.nii.gz\n"
     ]
    }
   ],
   "source": [
    "import pywt\n",
    "import nibabel as nib\n",
    "import numpy as np\n",
    "from pathlib import Path\n",
    "\n",
    "# ════════════════════════════════════════════════════════\n",
    "#                         CONFIG\n",
    "# ════════════════════════════════════════════════════════\n",
    "CONFIG = {\n",
    "    \"IMG_PATH\"          : r\"C:\\Users\\shahi\\OneDrive\\Documents\\NAAMI\\Padding and Filtering implementation\\test_dataset\\test_dataset\\impulse\\image\\impulse.nii\\impulse.nii\",\n",
    "    \"ID_TAG\"            : \"5_a_1\",   # \"5_a_1\" or \"5_a_2\"\n",
    "    \"WAVELET\"           : \"db2\",     # Daubechies-2\n",
    "    \"LEVEL\"             : 1,         # first level\n",
    "    \"SUBBAND\"           : \"ada\",     # 'ada' = LHL\n",
    "    \"ROTATION_INVARIANT\": False      # False → 5.a.1, True → 5.a.2\n",
    "}\n",
    "# ════════════════════════════════════════════════════════\n",
    "\n",
    "# 1. Load volume\n",
    "nii   = nib.load(CONFIG[\"IMG_PATH\"])\n",
    "data  = nii.get_fdata().astype(np.float32)\n",
    "aff   = nii.affine\n",
    "\n",
    "# 2. Undecimated (stationary) 3-D wavelet, no mode arg here\n",
    "coeffs = pywt.swtn(\n",
    "    data,\n",
    "    wavelet=CONFIG[\"WAVELET\"],\n",
    "    level=CONFIG[\"LEVEL\"],\n",
    "    axes=(0,1,2)\n",
    ")[0]\n",
    "\n",
    "# 3. Extract or average subbands\n",
    "if not CONFIG[\"ROTATION_INVARIANT\"]:\n",
    "    # single‐subband response map (LHL = 'ada')\n",
    "    resp = coeffs[CONFIG[\"SUBBAND\"]]\n",
    "else:\n",
    "    # average of the three single-high-pass subbands:\n",
    "    # HLL='daa', LHL='ada', LLH='aad'\n",
    "    resp = (\n",
    "        coeffs[\"daa\"]\n",
    "      + coeffs[\"ada\"]\n",
    "      + coeffs[\"aad\"]\n",
    "    ) / 3.0\n",
    "\n",
    "# 4. Save result\n",
    "out_dir = Path(CONFIG[\"IMG_PATH\"]).parent / \"udwt_single_outputs\"\n",
    "out_dir.mkdir(exist_ok=True)\n",
    "suffix = \"ri\" if CONFIG[\"ROTATION_INVARIANT\"] else \"resp\"\n",
    "out_fn = f\"{CONFIG['ID_TAG']}_{CONFIG['WAVELET']}_{CONFIG['SUBBAND']}_{suffix}.nii.gz\"\n",
    "out_path = out_dir / out_fn\n",
    "\n",
    "nib.save(nib.Nifti1Image(resp, aff), str(out_path))\n",
    "print(f\"✓ {CONFIG['ID_TAG']} saved → {out_path}\")\n",
    "\n"
   ]
  },
  {
   "cell_type": "markdown",
   "id": "7e7fb2d0",
   "metadata": {},
   "source": [
    "# Coiflet 1"
   ]
  },
  {
   "cell_type": "code",
   "execution_count": 69,
   "id": "c1a23717",
   "metadata": {},
   "outputs": [
    {
     "name": "stdout",
     "output_type": "stream",
     "text": [
      "✓ 6_a_2 saved → C:\\Users\\shahi\\OneDrive\\Documents\\NAAMI\\Padding and Filtering implementation\\test_dataset\\test_dataset\\sphere\\image\\sphere.nii\\udwt_single_outputs\\6_a_2_coif1_dda_ri.nii.gz\n"
     ]
    }
   ],
   "source": [
    "import pywt\n",
    "import nibabel as nib\n",
    "import numpy as np\n",
    "from pathlib import Path\n",
    "\n",
    "# ════════════════════════════════════════════════════════\n",
    "#                        CONFIGURATION\n",
    "# ════════════════════════════════════════════════════════\n",
    "CONFIG = {\n",
    "    \"IMG_PATH\"          : r\"C:\\Users\\shahi\\OneDrive\\Documents\\NAAMI\\Padding and Filtering implementation\\test_dataset\\test_dataset\\sphere\\image\\sphere.nii\\sphere.nii\",\n",
    "    \"ID_TAG\"            : \"6_a_2\",     # \"6_a_1\" or \"6_a_2\"\n",
    "    \"WAVELET\"           : \"coif1\",     # Coiflet-1\n",
    "    \"LEVEL\"             : 1,           # decomposition level\n",
    "    \"SUBBAND\"           : \"dda\",       # HHL = 'dda'\n",
    "    \"ROTATION_INVARIANT\": True        # False → 6.a.1, True → 6.a.2\n",
    "}\n",
    "# ════════════════════════════════════════════════════════\n",
    "\n",
    "# 1. Load the sphere phantom\n",
    "nii   = nib.load(CONFIG[\"IMG_PATH\"])\n",
    "data  = nii.get_fdata().astype(np.float32)\n",
    "aff   = nii.affine\n",
    "\n",
    "# 2. Stationary 3-D wavelet (periodic padding)\n",
    "coeffs = pywt.swtn(\n",
    "    data,\n",
    "    wavelet=CONFIG[\"WAVELET\"],\n",
    "    level=CONFIG[\"LEVEL\"],\n",
    "    axes=(0,1,2)\n",
    ")[0]  # level-1 coefficients\n",
    "\n",
    "# 3. Extract or average subbands\n",
    "if not CONFIG[\"ROTATION_INVARIANT\"]:\n",
    "    # 6.a.1: just the HHL subband\n",
    "    resp = coeffs[CONFIG[\"SUBBAND\"]]\n",
    "else:\n",
    "    # 6.a.2: average the three HHL permutations: dda, dad, add\n",
    "    resp = (coeffs[\"dda\"] + coeffs[\"dad\"] + coeffs[\"add\"]) / 3.0\n",
    "\n",
    "# 4. Save the result\n",
    "out_dir = Path(CONFIG[\"IMG_PATH\"]).parent / \"udwt_single_outputs\"\n",
    "out_dir.mkdir(exist_ok=True)\n",
    "suffix  = \"ri\" if CONFIG[\"ROTATION_INVARIANT\"] else \"resp\"\n",
    "out_fn  = f\"{CONFIG['ID_TAG']}_{CONFIG['WAVELET']}_{CONFIG['SUBBAND']}_{suffix}.nii.gz\"\n",
    "out_p   = out_dir / out_fn\n",
    "\n",
    "nib.save(nib.Nifti1Image(resp, aff), str(out_p))\n",
    "print(f\"✓ {CONFIG['ID_TAG']} saved → {out_p}\")\n",
    "\n"
   ]
  },
  {
   "cell_type": "markdown",
   "id": "11d99eaf",
   "metadata": {},
   "source": [
    "# Haar"
   ]
  },
  {
   "cell_type": "code",
   "execution_count": 70,
   "id": "04ab866e",
   "metadata": {},
   "outputs": [
    {
     "name": "stdout",
     "output_type": "stream",
     "text": [
      "✓ 7_a_1 saved → C:\\Users\\shahi\\OneDrive\\Documents\\NAAMI\\Padding and Filtering implementation\\test_dataset\\test_dataset\\checkerboard\\image\\checkerboard.nii\\udwt_single_outputs\\7_a_1_haar_aaa_ri.nii.gz\n"
     ]
    }
   ],
   "source": [
    "import pywt\n",
    "import nibabel as nib\n",
    "import numpy as np\n",
    "import itertools\n",
    "from pathlib import Path\n",
    "\n",
    "# ════════════════════════════════════════════════════════\n",
    "#                            CONFIG\n",
    "# ════════════════════════════════════════════════════════\n",
    "CONFIG = {\n",
    "    \"IMG_PATH\"         : r\"C:\\Users\\shahi\\OneDrive\\Documents\\NAAMI\\Padding and Filtering implementation\\test_dataset\\test_dataset\\checkerboard\\image\\checkerboard.nii\\checkerboard.nii\",\n",
    "    \"ID_TAG\"           : \"7_a_1\",   # \"7_a_1\" or \"7_a_2\"\n",
    "    \"WAVELET\"          : \"haar\",    # Haar wavelet\n",
    "    \"LEVEL\"            : 2,         # second‐level coefficients\n",
    "    \"SUBBAND\"          : \"aaa\",     # \"aaa\"=LLL for 7.a.1, \"ddd\"=HHH for 7.a.2\n",
    "    \"DO_MAXPOOL\"       : True      # False for 7.a.1, True for 7.a.2\n",
    "}\n",
    "# ════════════════════════════════════════════════════════\n",
    "\n",
    "# 1. Load the checkerboard volume\n",
    "nii   = nib.load(CONFIG[\"IMG_PATH\"])\n",
    "data  = nii.get_fdata().astype(np.float32)\n",
    "aff   = nii.affine\n",
    "\n",
    "# 2. Undecimated 3-D wavelet transform (stationary; uses periodic padding)\n",
    "coeffs_list = pywt.swtn(data,\n",
    "                       wavelet=CONFIG[\"WAVELET\"],\n",
    "                       level=CONFIG[\"LEVEL\"],\n",
    "                       axes=(0,1,2))\n",
    "# pick the second‐level dict (index 1, since Python is 0-based)\n",
    "coeffs = coeffs_list[CONFIG[\"LEVEL\"] - 1]\n",
    "\n",
    "# 3. Extract or average subbands for rotation invariance\n",
    "if not CONFIG[\"DO_MAXPOOL\"]:\n",
    "    # single‐subband map\n",
    "    resp = coeffs[CONFIG[\"SUBBAND\"]]\n",
    "else:\n",
    "    # rotation‐invariant: average all permutations of the letters\n",
    "    toks   = list(CONFIG[\"SUBBAND\"])\n",
    "    perms  = set(itertools.permutations(toks))\n",
    "    maps   = [coeffs[''.join(p)] for p in perms]\n",
    "    resp   = sum(maps) / len(maps)\n",
    "\n",
    "# 4. Save the result\n",
    "out_dir = Path(CONFIG[\"IMG_PATH\"]).parent / \"udwt_single_outputs\"\n",
    "out_dir.mkdir(exist_ok=True)\n",
    "suffix  = \"ri\" if CONFIG[\"DO_MAXPOOL\"] else \"resp\"\n",
    "out_fn  = f\"{CONFIG['ID_TAG']}_{CONFIG['WAVELET']}_{CONFIG['SUBBAND']}_{suffix}.nii.gz\"\n",
    "out_p   = out_dir / out_fn\n",
    "\n",
    "nib.save(nib.Nifti1Image(resp, aff), str(out_p))\n",
    "print(f\"✓ {CONFIG['ID_TAG']} saved → {out_p}\")\n"
   ]
  },
  {
   "cell_type": "markdown",
   "id": "61651c8b",
   "metadata": {},
   "source": [
    "# Simoncelli"
   ]
  },
  {
   "cell_type": "code",
   "execution_count": 73,
   "id": "126e39ca",
   "metadata": {},
   "outputs": [
    {
     "name": "stdout",
     "output_type": "stream",
     "text": [
      "✓ saved → C:\\Users\\shahi\\OneDrive\\Documents\\NAAMI\\Padding and Filtering implementation\\test_dataset\\test_dataset\\checkerboard\\image\\checkerboard.nii\\udwt_single_outputs\\8_a_3_bmap.nii.gz\n"
     ]
    }
   ],
   "source": [
    "import SimpleITK as sitk\n",
    "from pathlib import Path\n",
    "import numpy as np\n",
    "\n",
    "# ===========================================================================\n",
    "#                                CONFIGURE\n",
    "# ===========================================================================\n",
    "# 1) Full path to your checkerboard .nii\n",
    "IMG_PATH    = r\"C:\\Users\\shahi\\OneDrive\\Documents\\NAAMI\\Padding and Filtering implementation\\test_dataset\\test_dataset\\checkerboard\\image\\checkerboard.nii\\checkerboard.nii\"\n",
    "\n",
    "# 2) Which band‐pass level? 1, 2 or 3\n",
    "LEVEL       = 3   # → 8.a.1; use 2 for 8.a.2; 3 for 8.a.3\n",
    "\n",
    "# 3) Define the octave‐scale sigmas (in mm).  \n",
    "#    For level L we subtract blur at sigma[L] from sigma[L+1].\n",
    "#    Here’s a typical 1-2-4-8 mm progression:\n",
    "SIGMA_OCTAVE = [1.0, 2.0, 4.0, 8.0]  \n",
    "\n",
    "# 4) Padding rule\n",
    "PADDING     = \"periodic\"   # Simoncelli always uses periodic\n",
    "\n",
    "# 5) Output tag (for filename)\n",
    "ID_TAG      = f\"8_a_{LEVEL}\"\n",
    "# ===========================================================================\n",
    "\n",
    "# --- load image ---\n",
    "img       = sitk.ReadImage(IMG_PATH)\n",
    "spacing   = np.array(img.GetSpacing())[:3]   # mm/voxel (assumed isotropic)\n",
    "    \n",
    "# --- pad periodically by a safe margin (4× highest sigma in mm → in voxels) ---\n",
    "max_sigma = SIGMA_OCTAVE[-1]\n",
    "pad_vox   = int(np.ceil(4 * (max_sigma / spacing[0])))\n",
    "padded    = sitk.WrapPad(img, [pad_vox]*3, [pad_vox]*3)\n",
    "\n",
    "# --- compute band-pass: B_L = G(σ_L) − G(σ_{L+1}) ---\n",
    "σ_lo = SIGMA_OCTAVE[LEVEL-1]\n",
    "σ_hi = SIGMA_OCTAVE[LEVEL]\n",
    "\n",
    "# Gaussian smoothing (3D)\n",
    "blur_lo = sitk.SmoothingRecursiveGaussian(padded, σ_lo)\n",
    "blur_hi = sitk.SmoothingRecursiveGaussian(padded, σ_hi)\n",
    "\n",
    "bmap    = sitk.Subtract(blur_lo, blur_hi)\n",
    "\n",
    "# --- crop back to original size (remove pad) ---\n",
    "origin      = padded.GetOrigin()\n",
    "size_full   = padded.GetSize()\n",
    "start_index = [pad_vox]*3\n",
    "end_size    = [size_full[i] - 2*pad_vox for i in range(3)]\n",
    "bmap_crop   = sitk.Crop(bmap, start_index, start_index)\n",
    "\n",
    "# --- save result ---\n",
    "out_dir = Path(IMG_PATH).parent / \"udwt_single_outputs\"\n",
    "out_dir.mkdir(exist_ok=True)\n",
    "out_fn  = f\"{ID_TAG}_bmap.nii.gz\"\n",
    "sitk.WriteImage(bmap_crop, str(out_dir / out_fn))\n",
    "\n",
    "print(f\"✓ saved → {out_dir/out_fn}\")\n"
   ]
  },
  {
   "cell_type": "markdown",
   "id": "30596ec6",
   "metadata": {},
   "source": [
    "# Riesz-transformed LoG"
   ]
  },
  {
   "cell_type": "code",
   "execution_count": 82,
   "id": "2a7442a5",
   "metadata": {},
   "outputs": [
    {
     "name": "stdout",
     "output_type": "stream",
     "text": [
      "✓ saved → C:\\Users\\shahi\\OneDrive\\Documents\\NAAMI\\Padding and Filtering implementation\\test_dataset\\test_dataset\\sphere\\image\\sphere.nii\\9_b_2_rieszLoG.nii.gz\n"
     ]
    }
   ],
   "source": [
    "import numpy as np\n",
    "import SimpleITK as sitk\n",
    "from pathlib import Path\n",
    "\n",
    "# ══════════════ CONFIG ══════════════\n",
    "IMG_PATH = r\"C:\\Users\\shahi\\OneDrive\\Documents\\NAAMI\\Padding and Filtering implementation\\test_dataset\\test_dataset\\sphere\\image\\sphere.nii\\sphere.nii\" \n",
    "ID_TAG   = \"9_b_2\"     # \"9_a_1\", \"9_b_1\", or \"9_b_2\"\n",
    "SIGMA    = 3.0         # σ = 3 mm\n",
    "CUTOFF   = 4           # support = 4·σ\n",
    "L        = (0, 2, 0)   # (ℓₓ,ℓᵧ,ℓ_z) = (1,0,0) for 9.a.1; (0,2,0) for 9.b.1/9.b.2\n",
    "# ═════════════════════════════════════\n",
    "\n",
    "# 1) Read & zero-pad\n",
    "img      = sitk.ReadImage(IMG_PATH)\n",
    "spacing  = np.array(img.GetSpacing())\n",
    "sigma_v  = SIGMA / spacing\n",
    "rad_v    = np.ceil(CUTOFF * sigma_v).astype(int).tolist()\n",
    "padded   = sitk.ConstantPad(img, rad_v, rad_v, 0)\n",
    "\n",
    "# 2) 3-D LoG\n",
    "logf     = sitk.LaplacianRecursiveGaussianImageFilter()\n",
    "logf.SetSigma(SIGMA)\n",
    "log_img  = logf.Execute(padded)\n",
    "arr      = sitk.GetArrayFromImage(log_img)  # (Z,Y,X)\n",
    "\n",
    "# 3) FFT-based Riesz transform of order L\n",
    "Z,Y,X = arr.shape\n",
    "kx = np.fft.fftfreq(X, d=spacing[0])\n",
    "ky = np.fft.fftfreq(Y, d=spacing[1])\n",
    "kz = np.fft.fftfreq(Z, d=spacing[2])\n",
    "KX,KY,KZ = np.meshgrid(kx, ky, kz, indexing='xy')\n",
    "K2 = KX**2 + KY**2 + KZ**2\n",
    "K2[K2==0] = 1\n",
    "R = (KX/np.sqrt(K2))**L[0] * (KY/np.sqrt(K2))**L[1] * (KZ/np.sqrt(K2))**L[2]\n",
    "\n",
    "F     = np.fft.fftn(arr)\n",
    "riesz = np.real(np.fft.ifftn(F * R))\n",
    "\n",
    "# 4) Back to SITK & crop padding off\n",
    "rimg = sitk.GetImageFromArray(riesz)\n",
    "rimg = sitk.Cast(rimg, log_img.GetPixelID())\n",
    "rimg.SetSpacing(log_img.GetSpacing())\n",
    "rimg.SetOrigin (log_img.GetOrigin ())\n",
    "crop = {0:rad_v[2], 1:rad_v[1], 2:rad_v[0]}\n",
    "r_crop = sitk.Crop(rimg, crop, crop)\n",
    "\n",
    "# 5) Save\n",
    "out_path = Path(IMG_PATH).with_name(f\"{ID_TAG}_rieszLoG.nii.gz\")\n",
    "sitk.WriteImage(r_crop, str(out_path))\n",
    "print(f\"✓ saved → {out_path}\")\n"
   ]
  },
  {
   "cell_type": "markdown",
   "id": "4154f695",
   "metadata": {},
   "source": [
    "# Riesz-transformed Simoncelli"
   ]
  },
  {
   "cell_type": "code",
   "execution_count": 89,
   "id": "eeb5fd65",
   "metadata": {},
   "outputs": [
    {
     "name": "stdout",
     "output_type": "stream",
     "text": [
      "✓ saved → C:\\Users\\shahi\\OneDrive\\Documents\\NAAMI\\Padding and Filtering implementation\\test_dataset\\test_dataset\\impulse\\image\\impulse.nii\\riesz_single_outputs\\10_b_2_simoncelli_bmap_lvl1.nii.gz\n"
     ]
    }
   ],
   "source": [
    "import numpy as np\n",
    "import SimpleITK as sitk\n",
    "from pathlib import Path\n",
    "\n",
    "# ════════════════ CONFIG ════════════════\n",
    "IMG_PATH     = r\"C:\\Users\\shahi\\OneDrive\\Documents\\NAAMI\\Padding and Filtering implementation\\test_dataset\\test_dataset\\impulse\\image\\impulse.nii\\impulse.nii\"\n",
    "ID_TAG       = \"10_b_2\"        # \"10_a\", \"10_b_1\", or \"10_b_2\"\n",
    "SIGMA_OCTAVE = [1.0, 2.0, 4.0]  # mm\n",
    "LEVEL        = 1               # first octave\n",
    "PADDING      = \"nearest\"       # \"zero\" or \"nearest\"\n",
    "L            = (0, 2, 0)       # Riesz order vector\n",
    "USE_ST       = True            # True only for 10.b.2\n",
    "SIGMA_T      = 1.0             # σ for structure tensor (mm)\n",
    "# ════════════════════════════════════════\n",
    "\n",
    "# 1) Load & pad for Simoncelli B-map\n",
    "img     = sitk.ReadImage(IMG_PATH)\n",
    "spacing = np.array(img.GetSpacing())[:3]\n",
    "maxσ    = SIGMA_OCTAVE[-1]\n",
    "pad     = int(np.ceil(4 * (maxσ / spacing[0])))\n",
    "\n",
    "if PADDING == \"zero\":\n",
    "    padded = sitk.ConstantPad(img, [pad]*3, [pad]*3, 0)\n",
    "else:\n",
    "    padded = sitk.ZeroFluxNeumannPad(img, [pad]*3, [pad]*3)\n",
    "\n",
    "# 2) Simoncelli band‐pass: G(σ_lo) – G(σ_hi)\n",
    "σ_lo = SIGMA_OCTAVE[LEVEL-1]\n",
    "σ_hi = SIGMA_OCTAVE[LEVEL]\n",
    "\n",
    "f_lo = sitk.SmoothingRecursiveGaussianImageFilter()\n",
    "f_lo.SetSigma(σ_lo)\n",
    "blur_lo = f_lo.Execute(padded)\n",
    "\n",
    "f_hi = sitk.SmoothingRecursiveGaussianImageFilter()\n",
    "f_hi.SetSigma(σ_hi)\n",
    "blur_hi = f_hi.Execute(padded)\n",
    "\n",
    "bmap = sitk.Subtract(blur_lo, blur_hi)\n",
    "bmap = sitk.Crop(bmap, [pad]*3, [pad]*3)\n",
    "\n",
    "# 3) Global structure‐tensor alignment (for 10.b.2)\n",
    "if USE_ST:\n",
    "    gradf = sitk.GradientRecursiveGaussianImageFilter()\n",
    "    gradf.SetSigma(SIGMA_T)\n",
    "    gv = gradf.Execute(bmap)\n",
    "    Ix = sitk.VectorIndexSelectionCast(gv, 0)\n",
    "    Iy = sitk.VectorIndexSelectionCast(gv, 1)\n",
    "    Iz = sitk.VectorIndexSelectionCast(gv, 2)\n",
    "    def smooth(img):\n",
    "        sf = sitk.SmoothingRecursiveGaussianImageFilter()\n",
    "        sf.SetSigma(SIGMA_T)\n",
    "        return sf.Execute(img)\n",
    "    Jxx = smooth(Ix*Ix); Jyy = smooth(Iy*Iy); Jzz = smooth(Iz*Iz)\n",
    "    Jxy = smooth(Ix*Iy); Jxz = smooth(Ix*Iz); Jyz = smooth(Iy*Iz)\n",
    "    size = bmap.GetSize()\n",
    "    idx  = [s//2 for s in size]\n",
    "    def v(img): return img.GetPixel(*idx)\n",
    "    J = np.array([[v(Jxx), v(Jxy), v(Jxz)],\n",
    "                  [v(Jxy), v(Jyy), v(Jyz)],\n",
    "                  [v(Jxz), v(Jyz), v(Jzz)]], np.float64)\n",
    "    w, v = np.linalg.eigh(J)\n",
    "    U = v[:, np.argmax(w)]  # principal axis\n",
    "else:\n",
    "    U = None\n",
    "\n",
    "# 4) FFT-based Riesz transform\n",
    "arr = sitk.GetArrayFromImage(bmap)  # (Z,Y,X)\n",
    "Z, Y, X = arr.shape\n",
    "kx = np.fft.fftfreq(X, d=spacing[0])\n",
    "ky = np.fft.fftfreq(Y, d=spacing[1])\n",
    "kz = np.fft.fftfreq(Z, d=spacing[2])\n",
    "KX, KY, KZ = np.meshgrid(kx, ky, kz, indexing=\"xy\")\n",
    "K2 = KX**2 + KY**2 + KZ**2\n",
    "K2[K2 == 0] = 1\n",
    "\n",
    "if USE_ST:\n",
    "    KU = (KX*U[0] + KY*U[1] + KZ*U[2]) / np.sqrt(K2)\n",
    "    R = KU**(abs(L[0]) + abs(L[1]) + abs(L[2]))\n",
    "else:\n",
    "    R = (KX/np.sqrt(K2))**L[0] \\\n",
    "      * (KY/np.sqrt(K2))**L[1] \\\n",
    "      * (KZ/np.sqrt(K2))**L[2]\n",
    "\n",
    "Farr = np.fft.fftn(arr)\n",
    "riesz = np.real(np.fft.ifftn(Farr * R))\n",
    "\n",
    "# 5) Back to SITK & save\n",
    "rimg = sitk.GetImageFromArray(riesz)\n",
    "rimg = sitk.Cast(rimg, bmap.GetPixelID())\n",
    "rimg.SetSpacing(bmap.GetSpacing())\n",
    "rimg.SetOrigin(bmap.GetOrigin())\n",
    "\n",
    "out_dir = Path(IMG_PATH).parent / \"riesz_single_outputs\"\n",
    "out_dir.mkdir(exist_ok=True)\n",
    "out_fn  = f\"{ID_TAG}_simoncelli_bmap_lvl{LEVEL}.nii.gz\"\n",
    "sitk.WriteImage(rimg, str(out_dir / out_fn))\n",
    "\n",
    "print(\"✓ saved →\", out_dir / out_fn)\n"
   ]
  },
  {
   "cell_type": "code",
   "execution_count": null,
   "id": "80b00c06",
   "metadata": {},
   "outputs": [],
   "source": []
  }
 ],
 "metadata": {
  "kernelspec": {
   "display_name": "Python 3",
   "language": "python",
   "name": "python3"
  },
  "language_info": {
   "codemirror_mode": {
    "name": "ipython",
    "version": 3
   },
   "file_extension": ".py",
   "mimetype": "text/x-python",
   "name": "python",
   "nbconvert_exporter": "python",
   "pygments_lexer": "ipython3",
   "version": "3.12.3"
  }
 },
 "nbformat": 4,
 "nbformat_minor": 5
}
